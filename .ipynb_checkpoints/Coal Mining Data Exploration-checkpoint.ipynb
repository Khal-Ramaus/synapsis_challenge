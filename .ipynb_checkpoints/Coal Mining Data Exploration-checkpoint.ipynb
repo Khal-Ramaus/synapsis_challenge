{
 "cells": [
  {
   "cell_type": "markdown",
   "id": "4dd0550d-96da-4cb7-8cae-d7de0215e892",
   "metadata": {},
   "source": [
    "***Coal Mining Data Analysis***"
   ]
  },
  {
   "cell_type": "markdown",
   "id": "55a220ca-61ae-4656-ab2b-7a6262374a31",
   "metadata": {},
   "source": [
    "# A. Scenario"
   ]
  },
  {
   "cell_type": "markdown",
   "id": "5959d3d9-d129-4391-9cd6-e07dfb8259f9",
   "metadata": {},
   "source": [
    "    A coal mining company aims to optimize its mining operations using production data. Your task is to design and implement a data pipeline that collects, transforms, and loads coal production data from various sources into a data warehouse. Additionally, you will validate the data and create a dashboard to visualize key production metrics."
   ]
  },
  {
   "cell_type": "markdown",
   "id": "011b4281-d286-4575-a613-54ddbb0af8bf",
   "metadata": {},
   "source": [
    "# B. Data Sources"
   ]
  }
 ],
 "metadata": {
  "kernelspec": {
   "display_name": "Python 3 (ipykernel)",
   "language": "python",
   "name": "python3"
  },
  "language_info": {
   "codemirror_mode": {
    "name": "ipython",
    "version": 3
   },
   "file_extension": ".py",
   "mimetype": "text/x-python",
   "name": "python",
   "nbconvert_exporter": "python",
   "pygments_lexer": "ipython3",
   "version": "3.13.5"
  }
 },
 "nbformat": 4,
 "nbformat_minor": 5
}
