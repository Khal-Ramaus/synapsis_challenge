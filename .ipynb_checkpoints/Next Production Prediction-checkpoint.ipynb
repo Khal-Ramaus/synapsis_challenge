{
 "cells": [
  {
   "cell_type": "code",
   "execution_count": null,
   "id": "1e568ff2-265a-4a88-bd1d-03e42717b79d",
   "metadata": {},
   "outputs": [],
   "source": [
    "!pip install pandas numpy matplotlib sqlalchemy pymysql pmdarima scikit-learn"
   ]
  },
  {
   "cell_type": "code",
   "execution_count": 1,
   "id": "a23a930f-7816-42ce-b6a0-995a2db39c46",
   "metadata": {},
   "outputs": [
    {
     "ename": "ModuleNotFoundError",
     "evalue": "No module named 'pandas'",
     "output_type": "error",
     "traceback": [
      "\u001b[31m---------------------------------------------------------------------------\u001b[39m",
      "\u001b[31mModuleNotFoundError\u001b[39m                       Traceback (most recent call last)",
      "\u001b[36mCell\u001b[39m\u001b[36m \u001b[39m\u001b[32mIn[1]\u001b[39m\u001b[32m, line 1\u001b[39m\n\u001b[32m----> \u001b[39m\u001b[32m1\u001b[39m \u001b[38;5;28;01mimport\u001b[39;00m\u001b[38;5;250m \u001b[39m\u001b[34;01mpandas\u001b[39;00m\u001b[38;5;250m \u001b[39m\u001b[38;5;28;01mas\u001b[39;00m\u001b[38;5;250m \u001b[39m\u001b[34;01mpd\u001b[39;00m\n\u001b[32m      2\u001b[39m \u001b[38;5;28;01mimport\u001b[39;00m\u001b[38;5;250m \u001b[39m\u001b[34;01mnumpy\u001b[39;00m\u001b[38;5;250m \u001b[39m\u001b[38;5;28;01mas\u001b[39;00m\u001b[38;5;250m \u001b[39m\u001b[34;01mnp\u001b[39;00m\n\u001b[32m      3\u001b[39m \u001b[38;5;28;01mimport\u001b[39;00m\u001b[38;5;250m \u001b[39m\u001b[34;01mmatplotlib\u001b[39;00m\u001b[34;01m.\u001b[39;00m\u001b[34;01mpyplot\u001b[39;00m\u001b[38;5;250m \u001b[39m\u001b[38;5;28;01mas\u001b[39;00m\u001b[38;5;250m \u001b[39m\u001b[34;01mplt\u001b[39;00m\n",
      "\u001b[31mModuleNotFoundError\u001b[39m: No module named 'pandas'"
     ]
    }
   ],
   "source": [
    "import pandas as pd\n",
    "import numpy as np\n",
    "import matplotlib.pyplot as plt\n",
    "from sqlalchemy import create_engine\n",
    "from pmdarima import auto_arima\n",
    "from sklearn.metrics import mean_squared_error, mean_absolute_error\n",
    "from math import sqrt\n",
    "import warnings"
   ]
  },
  {
   "cell_type": "code",
   "execution_count": null,
   "id": "a73cfb64-b99a-44ca-b2e0-7c0e97239b0f",
   "metadata": {},
   "outputs": [],
   "source": [
    "# Suppress warnings for cleaner output\n",
    "warnings.filterwarnings(\"ignore\")\n",
    "\n",
    "print(\"Starting production prediction model...\")"
   ]
  },
  {
   "cell_type": "code",
   "execution_count": null,
   "id": "5a508acf-99d8-4b16-ad84-7f11d5d55fc3",
   "metadata": {},
   "outputs": [],
   "source": [
    "# Data Ingestion\n",
    "DB_USER = 'user'\n",
    "DB_PASSWORD = 'password' \n",
    "DB_HOST = '127.0.0.1' # Nama service MySQL di docker-compose\n",
    "DB_NAME = 'coal_mining'\n",
    "\n",
    "# Membuat koneksi SQLAlchemy\n",
    "try:\n",
    "    engine = create_engine(f'mysql+pymysql://{DB_USER}:{DB_PASSWORD}@{DB_HOST}/{DB_NAME}')\n",
    "    query = \"SELECT cast(date as date) as date, total_tons_mined_daily FROM daily_production_metrics WHERE date<'2025-07-01' ORDER BY date ASC;\"\n",
    "    df = pd.read_sql(query, engine)\n",
    "    print(\"Data successfully loaded from MySQL.\")\n",
    "except Exception as e:\n",
    "    print(f\"Error connecting to DB or loading data: {e}\")\n",
    "    exit()"
   ]
  },
  {
   "cell_type": "code",
   "execution_count": null,
   "id": "7542f319-7d26-44ed-8003-87ca5ea3f88e",
   "metadata": {},
   "outputs": [],
   "source": [
    "# Data Preprocessing\n",
    "df['date'] = pd.to_datetime(df['date'])\n",
    "df.set_index('date', inplace=True)\n",
    "\n",
    "# CHeck if there is null value\n",
    "if df['total_tons_mined_daily'].isnull().any():\n",
    "    print(\"Warning: Missing values found in 'total_tons_mined_daily'. Filling with forward fill.\")\n",
    "    df['total_tons_mined_daily'].fillna(method='ffill', inplace=True) # fill with previous value\n",
    "\n",
    "\n",
    "print(f\"Data shape after preprocessing: {df.shape}\")\n",
    "df.head()"
   ]
  },
  {
   "cell_type": "code",
   "execution_count": null,
   "id": "62d71e54-5092-418f-b1f0-dbf9f5f77aea",
   "metadata": {},
   "outputs": [],
   "source": [
    "# EDA\n",
    "plt.figure(figsize=(12, 6))\n",
    "plt.plot(df['total_tons_mined_daily'])\n",
    "plt.title('Daily Production Trends')\n",
    "plt.xlabel('Date')\n",
    "plt.ylabel('Total Tons Mined')\n",
    "plt.grid(True)\n",
    "plt.show()"
   ]
  },
  {
   "cell_type": "code",
   "execution_count": null,
   "id": "5e8d694a-ee53-4da5-b62f-09443e2aaf71",
   "metadata": {},
   "outputs": [],
   "source": [
    "# ARIMA Mode train\n",
    "# Split data to 80% for train and 20% for test\n",
    "train_size = int(len(df) * 0.8)\n",
    "train_data, test_data = df[0:train_size], df[train_size:]\n",
    "\n",
    "print(f\"\\nTraining data size: {len(train_data)} rows\")\n",
    "print(f\"Testing data size: {len(test_data)} rows\")"
   ]
  },
  {
   "cell_type": "code",
   "execution_count": null,
   "id": "c985a242-2229-4fe2-b457-cbb69fd76512",
   "metadata": {},
   "outputs": [],
   "source": [
    "model = auto_arima(train_data['total_tons_mined_daily'],\n",
    "                   start_p=1, start_q=1,\n",
    "                   test='adf',       # Uji stasioneritas menggunakan ADF\n",
    "                   max_p=5, max_q=5, # Batas maksimum untuk p dan q\n",
    "                   m=1,              # Frekuensi musiman (m=1 jika non-seasonal, m=7 jika daily with weekly pattern)\n",
    "                   d=None,           # Biarkan auto_arima menentukan 'd'\n",
    "                   seasonal=False,   # Atur ke True jika ada musiman, lalu sesuaikan 'm'\n",
    "                   trace=True,       # Cetak proses fitting\n",
    "                   error_action='ignore',\n",
    "                   suppress_warnings=True,\n",
    "                   stepwise=True)    # Gunakan algoritma stepwise\n",
    "\n",
    "print(\"\\nBest ARIMA Model Parameters:\")\n",
    "print(model.summary())"
   ]
  },
  {
   "cell_type": "code",
   "execution_count": null,
   "id": "2ee7c91a-a811-4173-b19c-0a87afde0acd",
   "metadata": {},
   "outputs": [],
   "source": [
    "# Evaluation\n",
    "# Model Testing\n",
    "forecast_steps = len(test_data)\n",
    "predictions = model.predict(n_periods=forecast_steps)\n",
    "predictions_series = pd.Series(predictions, index=test_data.index)\n",
    "\n",
    "# Evaluation Metric\n",
    "rmse = sqrt(mean_squared_error(test_data['total_tons_mined_daily'], predictions_series))\n",
    "mae = mean_absolute_error(test_data['total_tons_mined_daily'], predictions_series)\n",
    "\n",
    "print(f\"\\nModel Evaluation on Test Data:\")\n",
    "print(f\"Root Mean Squared Error (RMSE): {rmse:.2f}\")\n",
    "print(f\"Mean Absolute Error (MAE): {mae:.2f}\")"
   ]
  },
  {
   "cell_type": "code",
   "execution_count": null,
   "id": "23e8b1b5-8607-488a-ac73-41331bc34283",
   "metadata": {},
   "outputs": [],
   "source": [
    "# Prediction Visualization\n",
    "plt.figure(figsize=(14, 7))\n",
    "plt.plot(train_data['total_tons_mined_daily'], label='Training Data')\n",
    "plt.plot(test_data['total_tons_mined_daily'], label='Actual Test Data', color='orange')\n",
    "plt.plot(predictions_series, label='Predicted Test Data', color='green', linestyle='--')\n",
    "plt.title('Daily Production Prediction vs Actual (Test Set)')\n",
    "plt.xlabel('Date')\n",
    "plt.ylabel('Total Tons Mined')\n",
    "plt.legend()\n",
    "plt.grid(True)\n",
    "plt.show()"
   ]
  },
  {
   "cell_type": "code",
   "execution_count": null,
   "id": "b94941e7-c01f-437b-8d86-6136db257106",
   "metadata": {},
   "outputs": [],
   "source": [
    "# Next Day Production\n",
    "final_model = auto_arima(df['total_tons_mined_daily'],\n",
    "                   start_p=1, start_q=1,\n",
    "                   test='adf',\n",
    "                   max_p=5, max_q=5,\n",
    "                   m=1,\n",
    "                   d=None,\n",
    "                   seasonal=False,\n",
    "                   trace=False, \n",
    "                   error_action='ignore',\n",
    "                   suppress_warnings=True,\n",
    "                   stepwise=True)"
   ]
  },
  {
   "cell_type": "code",
   "execution_count": null,
   "id": "3fa56b11-7fbf-4cb4-af4a-ed4dae0db29e",
   "metadata": {},
   "outputs": [],
   "source": [
    "next_day_forecast = final_model.predict(n_periods=1)\n",
    "\n",
    "last_date_in_data = df.index.max()\n",
    "next_day_date = last_date_in_data + pd.Timedelta(days=1)\n",
    "\n",
    "print(f\"\\nPredicted production for {next_day_date.strftime('%Y-%m-%d')}: {next_day_forecast[0]:.2f} tons\")\n",
    "\n",
    "print(\"\\nProduction prediction model finished.\")"
   ]
  }
 ],
 "metadata": {
  "kernelspec": {
   "display_name": "Python 3 (ipykernel)",
   "language": "python",
   "name": "python3"
  },
  "language_info": {
   "codemirror_mode": {
    "name": "ipython",
    "version": 3
   },
   "file_extension": ".py",
   "mimetype": "text/x-python",
   "name": "python",
   "nbconvert_exporter": "python",
   "pygments_lexer": "ipython3",
   "version": "3.13.5"
  }
 },
 "nbformat": 4,
 "nbformat_minor": 5
}
